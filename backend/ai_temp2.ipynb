{
 "cells": [
  {
   "cell_type": "code",
   "execution_count": 1,
   "id": "92235567",
   "metadata": {},
   "outputs": [],
   "source": [
    "from dotenv import load_dotenv\n",
    "\n",
    "load_dotenv()\n",
    "\n",
    "import os\n",
    "\n",
    "# 프로젝트 설정\n",
    "new_project_name = \"MTVS-project4\"\n",
    "os.environ[\"LANGSMITH_PROJECT\"] = new_project_name"
   ]
  },
  {
   "cell_type": "code",
   "execution_count": 26,
   "id": "c9958804",
   "metadata": {},
   "outputs": [
    {
     "data": {
      "image/png": "[encoded data removed]",
      "text/plain": [
       "<langgraph.graph.state.CompiledStateGraph object at 0x000001E415EF9580>"
      ]
     },
     "execution_count": 26,
     "metadata": {},
     "output_type": "execute_result"
    }
   ],
   "source": [
    "from langchain_community.tools.ddg_search.tool import DuckDuckGoSearchResults\n",
    "from typing import Annotated, TypedDict\n",
    "from langgraph.graph.message import add_messages\n",
    "from langchain_openai import ChatOpenAI\n",
    "from langgraph.prebuilt.tool_node import ToolNode, tools_condition\n",
    "from langgraph.graph import StateGraph, START, END\n",
    "\n",
    "llm = ChatOpenAI(\n",
    "    model=\"gpt-4o-mini\",\n",
    "    temperature=0,\n",
    ")\n",
    "\n",
    "# 1. tool 세팅\n",
    "search_tool = DuckDuckGoSearchResults(\n",
    "    llm=llm,\n",
    "    max_results=3,  # 최대 검색 결과 수\n",
    "    description=\"한글 단어의 유사어나 신조어를 검색합니다.\",\n",
    "    return_direct=False,\n",
    ")\n",
    "tools = [search_tool]\n",
    "\n",
    "\n",
    "# 2. State 정의\n",
    "class State(TypedDict):\n",
    "    messages: Annotated[list, add_messages]\n",
    "\n",
    "\n",
    "# 3. LLM + 툴 바인딩\n",
    "llm_with_tools = llm.bind_tools(tools)\n",
    "\n",
    "\n",
    "# 4. chatbot 노드 정의\n",
    "def agent_chatbot(state: State):\n",
    "    answer = llm_with_tools.invoke(state[\"messages\"])\n",
    "    return {\"messages\": [answer]}  # 자동으로 add_messages 적용\n",
    "\n",
    "\n",
    "# 5. 그래프 초기화 & 노드 추가\n",
    "graph_builder = StateGraph(State)\n",
    "graph_builder.add_node(\"chatbot\", agent_chatbot)\n",
    "\n",
    "\n",
    "# 6. 도구 노드 생성\n",
    "tool_node = ToolNode(tools=tools)\n",
    "graph_builder.add_node(\"tools\", tool_node)\n",
    "\n",
    "\n",
    "# 7. 조건부 엣지 설정\n",
    "graph_builder.add_conditional_edges(\n",
    "    source=\"chatbot\",\n",
    "    path=tools_condition,\n",
    "    path_map={\"tools\": \"tools\", END: END},\n",
    ")\n",
    "\n",
    "\n",
    "# 8. 툴 -> 챗봇, START -> 챗봇 엣지 추가\n",
    "graph_builder.add_edge(\"tools\", \"chatbot\")\n",
    "graph_builder.add_edge(START, \"chatbot\")\n",
    "\n",
    "\n",
    "# 9. 그래프 컴파일\n",
    "graph = graph_builder.compile()\n",
    "graph"
   ]
  },
  {
   "cell_type": "code",
   "execution_count": null,
   "id": "99b49105",
   "metadata": {},
   "outputs": [],
   "source": [
    "from opensearchpy import OpenSearch\n",
    "from app.sbert_model import SBERTEmbedder\n",
    "\n",
    "SIMILARITY_THRESHOLD = 0.8  # cosineSimilarity + 1.0 = 1.5를 넘도록 기준 설정\n",
    "\n",
    "client = OpenSearch(hosts=[{\"host\": \"localhost\", \"port\": 9200}])\n",
    "embedder = SBERTEmbedder()\n",
    "\n",
    "\n",
    "def check_rag_function(state):\n",
    "    query = state[\"query\"]\n",
    "    vector = embedder.encode([query])[0]\n",
    "\n",
    "    script_query = {\n",
    "        \"script_score\": {\n",
    "            \"query\": {\"match_all\": {}},\n",
    "            \"script\": {\n",
    "                \"source\": \"cosineSimilarity(params.query_vector, doc['embedding']) + 1.5\",\n",
    "                \"params\": {\"query_vector\": vector.tolist()},\n",
    "            },\n",
    "        }\n",
    "    }\n",
    "\n",
    "    response = client.search(\n",
    "        index=\"korean-english-dictionary\", body={\"query\": script_query}\n",
    "    )\n",
    "    hits = response[\"hits\"][\"hits\"]\n",
    "\n",
    "    if not hits:\n",
    "        return {\"query\": query, \"retrieved\": [], \"missing_count\": 5}\n",
    "\n",
    "    top_sentences = [\n",
    "        hit[\"_source\"][\"form\"]\n",
    "        for hit in hits\n",
    "        if (hit[\"_score\"] - 1.5) > SIMILARITY_THRESHOLD\n",
    "    ]\n",
    "\n",
    "    missing_count = max(0, 5 - len(top_sentences))\n",
    "\n",
    "    return {\n",
    "        \"query\": query,\n",
    "        \"retrieved\": top_sentences,\n",
    "        \"missing_count\": missing_count,\n",
    "    }"
   ]
  },
  {
   "cell_type": "code",
   "execution_count": null,
   "id": "7385b24c",
   "metadata": {},
   "outputs": [],
   "source": [
    "from langchain_community.tools.ddg_search.tool import DuckDuckGoSearchResults\n",
    "from langchain_community.tools.ddg_search.tool import DuckDuckGoSearchRun\n",
    "from langchain_openai import ChatOpenAI\n",
    "from langchain.schema import HumanMessage\n",
    "\n",
    "# 설정\n",
    "llm = ChatOpenAI(model=\"gpt-4o-mini\", temperature=0)\n",
    "ddg_tool = DuckDuckGoSearchResults(search_engine=DuckDuckGoSearchRun(), llm=llm)\n",
    "\n",
    "\n",
    "def web_or_llm_merge_function(state):\n",
    "    query = state[\"query\"]\n",
    "    existing = state.get(\"retrieved\", [])\n",
    "    need = state.get(\"missing_count\", 5)\n",
    "\n",
    "    # 웹 검색 (예: DuckDuckGo)\n",
    "    web_results = [f\"{query} 웹유사어{i+1}\" for i in range(need // 2)]\n",
    "\n",
    "    # LLM 생성\n",
    "    llm_response = llm(\n",
    "        [HumanMessage(content=f\"'{query}'와 관련된 유사 단어 {need}개 생성해줘.\")]\n",
    "    )\n",
    "    llm_results = llm_response.content.strip().splitlines()\n",
    "\n",
    "    # 병합 및 중복 제거\n",
    "    all_results = list(dict.fromkeys(existing + web_results + llm_results))[:5]\n",
    "\n",
    "    return {\"final_results\": all_results}"
   ]
  },
  {
   "cell_type": "code",
   "execution_count": 38,
   "id": "c9d37dd8",
   "metadata": {},
   "outputs": [],
   "source": [
    "from langgraph.graph import StateGraph\n",
    "from langgraph.graph.graph import START, END\n",
    "\n",
    "builder = StateGraph(dict)\n",
    "\n",
    "# ✅ check_rag 노드\n",
    "builder.add_node(\"check_rag\", check_rag_function)\n",
    "\n",
    "\n",
    "def route(state):\n",
    "    if state.get(\"missing_count\", 5) == 0:\n",
    "        return \"return_result\"\n",
    "    return \"search_or_generate\"\n",
    "\n",
    "\n",
    "builder.add_conditional_edges(\n",
    "    \"check_rag\", route, {\"return_result\": END, \"search_or_generate\": \"web_or_llm\"}\n",
    ")\n",
    "\n",
    "builder.add_node(\"web_or_llm\", web_or_llm_merge_function)\n",
    "builder.add_edge(\"web_or_llm\", END)\n",
    "builder.add_edge(START, \"check_rag\")\n",
    "\n",
    "graph = builder.compile()"
   ]
  },
  {
   "cell_type": "code",
   "execution_count": 39,
   "id": "1f201b9c",
   "metadata": {},
   "outputs": [
    {
     "data": {
      "image/png": "[encoded data removed]",
      "text/plain": [
       "<langgraph.graph.state.CompiledStateGraph object at 0x000001E46B329A30>"
      ]
     },
     "execution_count": 39,
     "metadata": {},
     "output_type": "execute_result"
    }
   ],
   "source": [
    "graph"
   ]
  },
  {
   "cell_type": "code",
   "execution_count": 1,
   "id": "d184eee9",
   "metadata": {},
   "outputs": [
    {
     "name": "stderr",
     "output_type": "stream",
     "text": [
      "c:\\Users\\hwan7\\.conda\\envs\\project4\\Lib\\site-packages\\tqdm\\auto.py:21: TqdmWarning: IProgress not found. Please update jupyter and ipywidgets. See https://ipywidgets.readthedocs.io/en/stable/user_install.html\n",
      "  from .autonotebook import tqdm as notebook_tqdm\n"
     ]
    }
   ],
   "source": [
    "from opensearchpy import OpenSearch\n",
    "from app.sbert_model import SBERTEmbedder\n",
    "from langchain_openai import ChatOpenAI\n",
    "\n",
    "SIMILARITY_THRESHOLD = 0.8  # cosineSimilarity + 1.0 = 1.5를 넘도록 기준 설정\n",
    "\n",
    "client = OpenSearch(hosts=[{\"host\": \"localhost\", \"port\": 9200}])\n",
    "embedder = SBERTEmbedder()\n",
    "llm = ChatOpenAI(\n",
    "    model=\"gpt-4o-mini\",\n",
    "    temperature=0,\n",
    ")\n",
    "\n",
    "\n",
    "def check_rag_function(state):\n",
    "    query = state[\"query\"]\n",
    "    vector = embedder.encode([query])[0]\n",
    "\n",
    "    script_query = {\n",
    "        \"script_score\": {\n",
    "            \"query\": {\"match_all\": {}},\n",
    "            \"script\": {\n",
    "                \"source\": \"cosineSimilarity(params.query_vector, doc['embedding']) + 1.5\",\n",
    "                \"params\": {\"query_vector\": vector.tolist()},\n",
    "            },\n",
    "        }\n",
    "    }\n",
    "\n",
    "    response = client.search(\n",
    "        index=\"korean-english-dictionary\", body={\"query\": script_query}\n",
    "    )\n",
    "    hits = response[\"hits\"][\"hits\"]\n",
    "\n",
    "    if not hits:\n",
    "        return {\"query\": query, \"retrieved\": [], \"missing_count\": 5}\n",
    "\n",
    "    top_sentences = [\n",
    "        hit[\"_source\"][\"form\"]\n",
    "        for hit in hits\n",
    "        if (hit[\"_score\"] - 1.5) > SIMILARITY_THRESHOLD\n",
    "    ]\n",
    "\n",
    "    missing_count = max(0, 5 - len(top_sentences))\n",
    "    missing_web = 0\n",
    "    missing_llm = 0\n",
    "    if missing_count % 2 == 1:\n",
    "        missing_llm = missing_count // 2 + 1\n",
    "        missing_web = missing_count // 2\n",
    "    else:\n",
    "        missing_llm = missing_count // 2\n",
    "        missing_web = missing_count // 2\n",
    "    return {\n",
    "        \"query\": query,\n",
    "        \"retrieved\": top_sentences,\n",
    "        \"missing_web\": missing_web,\n",
    "        \"missing_llm\": missing_llm\n",
    "    }"
   ]
  },
  {
   "cell_type": "code",
   "execution_count": 2,
   "id": "6304ac2e",
   "metadata": {},
   "outputs": [
    {
     "name": "stderr",
     "output_type": "stream",
     "text": [
      "Batches: 100%|██████████| 1/1 [00:00<00:00,  5.82it/s]\n"
     ]
    },
    {
     "data": {
      "text/plain": [
       "{'query': '사랑',\n",
       " 'retrieved': ['사랑', '사랑', '사랑하다'],\n",
       " 'missing_web': 1,\n",
       " 'missing_llm': 1}"
      ]
     },
     "execution_count": 2,
     "metadata": {},
     "output_type": "execute_result"
    }
   ],
   "source": [
    "check_rag_function({\"query\": \"사랑\"})"
   ]
  },
  {
   "cell_type": "code",
   "execution_count": 17,
   "id": "6cf7517b",
   "metadata": {},
   "outputs": [],
   "source": [
    "from langchain_community.tools.ddg_search.tool import DuckDuckGoSearchResults\n",
    "from langchain_core.messages import HumanMessage \n",
    "\n",
    "def web_search_node(state: dict) -> dict:\n",
    "    print(f\"--- DEBUG: web_search_node ---\")\n",
    "    print(f\"Input state type: {type(state)}\")\n",
    "    print(f\"Input state content: {state}\")\n",
    "\n",
    "    query = state[\"query\"]\n",
    "    num_to_find_from_web = state.get(\"missing_web\", 0)\n",
    "\n",
    "    final_web_words = []\n",
    "\n",
    "    if num_to_find_from_web > 0:\n",
    "        search_tool = DuckDuckGoSearchResults(\n",
    "            max_results=max(5, num_to_find_from_web * 2),\n",
    "        )\n",
    "\n",
    "        try:\n",
    "            search_output = search_tool.run(f\"'{query}'와 가장 유사한 단어 또는 관련된 핵심 단어 {num_to_find_from_web}개\")\n",
    "\n",
    "            search_results_list = []\n",
    "            if isinstance(search_output, str):\n",
    "                search_results_list = [s.strip() for s in search_output.split(\"\\n\") if s.strip()]\n",
    "            elif isinstance(search_output, list):\n",
    "                search_results_list = search_output\n",
    "            else:\n",
    "                print(f\"Web Search: Unexpected type from search_tool.run(): {type(search_output)}\")\n",
    "\n",
    "            if search_results_list:\n",
    "                context_for_llm = \"\\n\".join(search_results_list[:5]) # 상위 5개 검색 결과 요약을 컨텍스트로\n",
    "                if context_for_llm:\n",
    "                    prompt_content = (\n",
    "                        f\"다음은 '{query}'와(과) 관련된 웹 검색 결과입니다:\\n---CONTEXT_START---\\n{context_for_llm}\\n---CONTEXT_END---\\n\\n\"\n",
    "                        f\"이 정보를 바탕으로 '{query}'와(과) 의미적으로 유사하거나 관련된 핵심 단어를 정확히 {num_to_find_from_web}개 찾아주세요. \"\n",
    "                        f\"결과는 반드시 콤마(,)로 구분된 단어 목록으로만 응답해주세요. \"\n",
    "                        f\"다른 어떤 설명, 번호 매기기, 문장, 줄바꿈도 포함하지 마세요. \"\n",
    "                        f\"오직 단어들만 콤마로 구분해서 한 줄로 응답해야 합니다.\"\n",
    "                    )\n",
    "                    response = llm.invoke([HumanMessage(content=prompt_content)]) # llm 객체 사용\n",
    "                    response_text = response.content.strip()\n",
    "                    if response_text:\n",
    "                        final_web_words = [word.strip() for word in response_text.split(',') if word.strip() and word.strip().lower() != query.lower()]\n",
    "                        final_web_words = final_web_words[:num_to_find_from_web] # 정확히 목표 개수만큼만\n",
    "\n",
    "        except Exception as e:\n",
    "            print(f\"Error during web search or LLM processing in web_search_node: {e}\")\n",
    "            # final_web_words는 빈 리스트로 유지됨\n",
    "    else:\n",
    "        print(\"Web Search: Skipping web search as missing_web is 0.\")\n",
    "\n",
    "    # 웹 검색 후 LLM이 최종적으로 찾아야 할 단어 수 다시 계산\n",
    "    # (check_rag에서 설정된 missing_llm 값에서, 웹에서 찾은 만큼을 제외)\n",
    "    # 하지만, check_rag에서 missing_llm과 missing_web을 이미 분배했으므로,\n",
    "    # 웹에서 찾은 단어 수와 관계없이 llm_generate_node는 원래 할당된 missing_llm만큼 생성해야 함.\n",
    "    # 따라서, missing_llm 값을 여기서 변경하지 않고 그대로 전달하거나,\n",
    "    # 또는, check_rag_function에서 missing_count 전체를 전달하고,\n",
    "    # web_search_node에서 웹 검색 후 남은 missing_count를 missing_llm으로 설정하는 방식도 가능.\n",
    "    # 현재 check_rag_function의 로직을 따르면, missing_llm은 변경하지 않는 것이 맞음.\n",
    "\n",
    "    output_dict = {\n",
    "        \"query\": query,  # 이전 상태의 query 유지\n",
    "        \"retrieved\": state.get(\"retrieved\", []),  # RAG 결과 유지\n",
    "        \"missing_web\": state.get(\n",
    "            \"missing_web\", 0\n",
    "        ),  # 필요하다면 이 값은 0으로 업데이트 가능\n",
    "        \"missing_llm\": state.get(\n",
    "            \"missing_llm\", 0\n",
    "        ),  # llm_generate_node가 사용할 값 유지\n",
    "        \"web_search_results\": final_web_words,  # 현재 노드에서 생성된 결과 추가\n",
    "    }\n",
    "\n",
    "    return output_dict"
   ]
  },
  {
   "cell_type": "code",
   "execution_count": null,
   "id": "8b8ba48a",
   "metadata": {},
   "outputs": [],
   "source": []
  },
  {
   "cell_type": "code",
   "execution_count": 18,
   "id": "7e164142",
   "metadata": {},
   "outputs": [],
   "source": [
    "def llm_generate_node(state):  # llm 인스턴스를 전달받도록 수정\n",
    "    print(f\"--- DEBUG: llm_generate_node ---\")\n",
    "    print(f\"Input state type: {type(state)}\")\n",
    "    print(f\"Input state content: {state}\") # 여기서 'query' 키가 있는지 확인!\n",
    "    \n",
    "    if \"query\" not in state:\n",
    "        print(\"ERROR: 'query' key is missing in state at llm_generate_node!\")\n",
    "        # 여기서 에러를 발생시키거나, 기본값을 사용하거나, 이전 노드의 문제임을 인지할 수 있습니다.\n",
    "        # 임시로 빈 query를 사용하거나, 예외를 발생시켜 디버깅을 계속할 수 있습니다.\n",
    "        # raise KeyError(\"'query' not found in state for llm_generate_node\") \n",
    "        query = \"기본값_쿼리_없음\" # 또는 빈 문자열\n",
    "    else:\n",
    "        query = state[\"query\"]\n",
    "        \n",
    "    # missing_count = state.get(\"missing_llm\", 0)\n",
    "    # ... (나머지 로직) ...\n",
    "    query = state[\"query\"]\n",
    "    n = state.get(\"missing_llm\", 0)\n",
    "    if n == 0:\n",
    "        return {\"llm_results\": []}\n",
    "\n",
    "    # 프롬프트 수정:\n",
    "    prompt_content = (\n",
    "        f\"'{query}'와(과) 관련된 유사 단어 정확히 {n}개를 찾아주세요. \"\n",
    "        f\"결과는 반드시 콤마(,)로 구분된 단어 목록으로만 응답해주세요. \"\n",
    "        f\"다른 어떤 설명, 번호 매기기, 문장, 줄바꿈도 포함하지 마세요. \"\n",
    "        f\"오직 단어들만 콤마로 구분해서 한 줄로 응답해야 합니다. \"\n",
    "        f\"예시 (만약 {n}=3이고 query가 '행복'이라면): 기쁨,즐거움,만족\"\n",
    "    )\n",
    "\n",
    "    response = llm.invoke([HumanMessage(content=prompt_content)])\n",
    "    response_text = response.content.strip()\n",
    "    if not response_text:  # 빈 문자열 응답 시\n",
    "        results = []\n",
    "    else:\n",
    "        # 콤마로 분리하고, 각 단어의 앞뒤 공백 제거\n",
    "        results = [word.strip() for word in response_text.split(\",\") if word.strip()]\n",
    "\n",
    "    return {\"llm_results\": results[:n]}  "
   ]
  },
  {
   "cell_type": "code",
   "execution_count": 19,
   "id": "455acce9",
   "metadata": {},
   "outputs": [],
   "source": [
    "def merge_node(state):\n",
    "    retrieved = state.get(\"retrieved\", [])\n",
    "    web = state.get(\"web_results\", [])\n",
    "    llm = state.get(\"llm_results\", [])\n",
    "\n",
    "    final = list(dict.fromkeys(retrieved + web + llm))[:5]\n",
    "    return {\"final_results\": final}"
   ]
  },
  {
   "cell_type": "code",
   "execution_count": 20,
   "id": "18dfa862",
   "metadata": {},
   "outputs": [],
   "source": [
    "from langgraph.graph import StateGraph, START, END\n",
    "\n",
    "builder = StateGraph(dict)\n",
    "\n",
    "builder.add_node(\"check_rag\", check_rag_function)\n",
    "\n",
    "\n",
    "def route(state):\n",
    "    if state.get(\"missing_web\", 0) == 0 and state.get(\"missing_llm\", 0) == 0:\n",
    "        return \"enough\"\n",
    "    return \"search_needed\"\n",
    "\n",
    "\n",
    "builder.add_conditional_edges(\n",
    "    \"check_rag\", route, {\"enough\": END, \"search_needed\": \"web_search\"}\n",
    ")\n",
    "\n",
    "builder.add_node(\"web_search\", web_search_node)\n",
    "builder.add_node(\"llm_generate\", llm_generate_node)\n",
    "builder.add_node(\"merge\", merge_node)\n",
    "\n",
    "builder.add_edge(START, \"check_rag\")\n",
    "builder.add_edge(\"web_search\", \"llm_generate\")\n",
    "builder.add_edge(\"llm_generate\", \"merge\")\n",
    "builder.add_edge(\"merge\", END)\n",
    "\n",
    "graph = builder.compile()"
   ]
  },
  {
   "cell_type": "code",
   "execution_count": 21,
   "id": "242b0402",
   "metadata": {},
   "outputs": [
    {
     "data": {
      "image/png": "[encoded data removed]",
      "text/plain": [
       "<langgraph.graph.state.CompiledStateGraph object at 0x000002CE434859A0>"
      ]
     },
     "execution_count": 21,
     "metadata": {},
     "output_type": "execute_result"
    }
   ],
   "source": [
    "graph"
   ]
  },
  {
   "cell_type": "code",
   "execution_count": 22,
   "id": "8116c1a7",
   "metadata": {},
   "outputs": [
    {
     "name": "stderr",
     "output_type": "stream",
     "text": [
      "Batches: 100%|██████████| 1/1 [00:00<00:00, 10.78it/s]\n"
     ]
    },
    {
     "name": "stdout",
     "output_type": "stream",
     "text": [
      "--- DEBUG: web_search_node ---\n",
      "Input state type: <class 'dict'>\n",
      "Input state content: {'query': '사랑', 'retrieved': ['사랑', '사랑', '사랑하다'], 'missing_web': 1, 'missing_llm': 1}\n",
      "--- DEBUG: llm_generate_node ---\n",
      "Input state type: <class 'dict'>\n",
      "Input state content: {'query': '사랑', 'retrieved': ['사랑', '사랑', '사랑하다'], 'missing_web': 1, 'missing_llm': 1, 'web_search_results': ['애정']}\n",
      "최종 유사어: {'final_results': ['애정']}\n"
     ]
    }
   ],
   "source": [
    "result = graph.invoke({\"query\": \"사랑\"})\n",
    "print(\"최종 유사어:\", result)"
   ]
  },
  {
   "cell_type": "code",
   "execution_count": 23,
   "id": "ff1afc0d",
   "metadata": {},
   "outputs": [
    {
     "name": "stderr",
     "output_type": "stream",
     "text": [
      "Batches: 100%|██████████| 1/1 [00:00<00:00, 15.05it/s]\n"
     ]
    },
    {
     "name": "stdout",
     "output_type": "stream",
     "text": [
      "--- DEBUG: web_search_node ---\n",
      "Input state type: <class 'dict'>\n",
      "Input state content: {'query': '플러팅', 'retrieved': [], 'missing_web': 2, 'missing_llm': 3}\n",
      "--- DEBUG: llm_generate_node ---\n",
      "Input state type: <class 'dict'>\n",
      "Input state content: {'query': '플러팅', 'retrieved': [], 'missing_web': 2, 'missing_llm': 3, 'web_search_results': ['관심', '매력']}\n",
      "최종 유사어: {'final_results': ['유혹', '애정', '사랑']}\n"
     ]
    }
   ],
   "source": [
    "result = graph.invoke({\"query\": \"플러팅\"})\n",
    "print(\"최종 유사어:\", result)"
   ]
  },
  {
   "cell_type": "code",
   "execution_count": null,
   "id": "a7fb0042",
   "metadata": {},
   "outputs": [],
   "source": []
  }
 ],
 "metadata": {
  "kernelspec": {
   "display_name": "Python 3",
   "language": "python",
   "name": "python3"
  },
  "language_info": {
   "codemirror_mode": {
    "name": "ipython",
    "version": 3
   },
   "file_extension": ".py",
   "mimetype": "text/x-python",
   "name": "python",
   "nbconvert_exporter": "python",
   "pygments_lexer": "ipython3",
   "version": "3.12.9"
  }
 },
 "nbformat": 4,
 "nbformat_minor": 5
}
